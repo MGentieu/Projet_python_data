{
 "cells": [
  {
   "cell_type": "markdown",
   "id": "fc639866a7122fc8",
   "metadata": {},
   "source": [
    "# 1. Chargement et exploration initiale des données\n",
    "• Importer les bibliothèques nécessaires (pandas, numpy, matplotlib, seaborn, \n",
    "sklearn) <br>\n",
    "• Charger le dataset <br>\n",
    "• Afficher les premières lignes et les informations de base (types de données, \n",
    "statistiques descriptives"
   ]
  },
  {
   "cell_type": "code",
   "execution_count": 9,
   "id": "d184772b-84be-40a9-8e67-a74e8b89b0d7",
   "metadata": {
    "ExecuteTime": {
     "end_time": "2024-11-05T07:53:30.812798Z",
     "start_time": "2024-11-05T07:53:29.200017Z"
    }
   },
   "source": [
    "#Projet Python pour data sciences \n",
    "import pandas as pd, numpy as np, matplotlib.pyplot as plt, seaborn as sb, sklearn as sk\n",
    "df=pd.read_csv(\"Urban Air Quality and Health Impact Dataset.csv\")\n",
    "\n",
    "df.head()"
   ],
   "outputs": [
    {
     "data": {
      "text/plain": [
       "     datetime  datetimeEpoch  tempmax  tempmin  temp  feelslikemax  \\\n",
       "0  2024-09-07   1.725692e+09    106.1     91.0  98.5         104.0   \n",
       "1  2024-09-08   1.725779e+09    103.9     87.0  95.4         100.5   \n",
       "2  2024-09-09   1.725865e+09    105.0     83.9  94.7          99.9   \n",
       "3  2024-09-10   1.725952e+09    106.1     81.2  93.9         100.6   \n",
       "4  2024-09-11   1.726038e+09    106.1     82.1  94.0         101.0   \n",
       "\n",
       "   feelslikemin  feelslike   dew  humidity  ...     City  Temp_Range  \\\n",
       "0          88.1       95.9  51.5      21.0  ...  Phoenix        15.1   \n",
       "1          84.7       92.3  48.7      21.5  ...  Phoenix        16.9   \n",
       "2          81.6       90.6  41.7      16.9  ...  Phoenix        21.1   \n",
       "3          79.5       89.8  39.1      15.7  ...  Phoenix        24.9   \n",
       "4          80.0       90.0  40.1      15.9  ...  Phoenix        24.0   \n",
       "\n",
       "   Heat_Index Severity_Score  Condition_Code  Month  Season  Day_of_Week  \\\n",
       "0   95.918703         4.4300             NaN    9.0    Fall     Saturday   \n",
       "1   92.281316         3.8800             0.0    9.0    Fall       Sunday   \n",
       "2   90.599165         3.6300             0.0    9.0    Fall       Monday   \n",
       "3   89.638811         2.8512             0.0    9.0    Fall      Tuesday   \n",
       "4   89.760414         3.3908             0.0    9.0    Fall    Wednesday   \n",
       "\n",
       "   Is_Weekend  Health_Risk_Score  \n",
       "0        True          10.522170  \n",
       "1        True          10.062332  \n",
       "2       False           9.673387  \n",
       "3       False           9.411519  \n",
       "4       False           9.515179  \n",
       "\n",
       "[5 rows x 46 columns]"
      ],
      "text/html": [
       "<div>\n",
       "<style scoped>\n",
       "    .dataframe tbody tr th:only-of-type {\n",
       "        vertical-align: middle;\n",
       "    }\n",
       "\n",
       "    .dataframe tbody tr th {\n",
       "        vertical-align: top;\n",
       "    }\n",
       "\n",
       "    .dataframe thead th {\n",
       "        text-align: right;\n",
       "    }\n",
       "</style>\n",
       "<table border=\"1\" class=\"dataframe\">\n",
       "  <thead>\n",
       "    <tr style=\"text-align: right;\">\n",
       "      <th></th>\n",
       "      <th>datetime</th>\n",
       "      <th>datetimeEpoch</th>\n",
       "      <th>tempmax</th>\n",
       "      <th>tempmin</th>\n",
       "      <th>temp</th>\n",
       "      <th>feelslikemax</th>\n",
       "      <th>feelslikemin</th>\n",
       "      <th>feelslike</th>\n",
       "      <th>dew</th>\n",
       "      <th>humidity</th>\n",
       "      <th>...</th>\n",
       "      <th>City</th>\n",
       "      <th>Temp_Range</th>\n",
       "      <th>Heat_Index</th>\n",
       "      <th>Severity_Score</th>\n",
       "      <th>Condition_Code</th>\n",
       "      <th>Month</th>\n",
       "      <th>Season</th>\n",
       "      <th>Day_of_Week</th>\n",
       "      <th>Is_Weekend</th>\n",
       "      <th>Health_Risk_Score</th>\n",
       "    </tr>\n",
       "  </thead>\n",
       "  <tbody>\n",
       "    <tr>\n",
       "      <th>0</th>\n",
       "      <td>2024-09-07</td>\n",
       "      <td>1.725692e+09</td>\n",
       "      <td>106.1</td>\n",
       "      <td>91.0</td>\n",
       "      <td>98.5</td>\n",
       "      <td>104.0</td>\n",
       "      <td>88.1</td>\n",
       "      <td>95.9</td>\n",
       "      <td>51.5</td>\n",
       "      <td>21.0</td>\n",
       "      <td>...</td>\n",
       "      <td>Phoenix</td>\n",
       "      <td>15.1</td>\n",
       "      <td>95.918703</td>\n",
       "      <td>4.4300</td>\n",
       "      <td>NaN</td>\n",
       "      <td>9.0</td>\n",
       "      <td>Fall</td>\n",
       "      <td>Saturday</td>\n",
       "      <td>True</td>\n",
       "      <td>10.522170</td>\n",
       "    </tr>\n",
       "    <tr>\n",
       "      <th>1</th>\n",
       "      <td>2024-09-08</td>\n",
       "      <td>1.725779e+09</td>\n",
       "      <td>103.9</td>\n",
       "      <td>87.0</td>\n",
       "      <td>95.4</td>\n",
       "      <td>100.5</td>\n",
       "      <td>84.7</td>\n",
       "      <td>92.3</td>\n",
       "      <td>48.7</td>\n",
       "      <td>21.5</td>\n",
       "      <td>...</td>\n",
       "      <td>Phoenix</td>\n",
       "      <td>16.9</td>\n",
       "      <td>92.281316</td>\n",
       "      <td>3.8800</td>\n",
       "      <td>0.0</td>\n",
       "      <td>9.0</td>\n",
       "      <td>Fall</td>\n",
       "      <td>Sunday</td>\n",
       "      <td>True</td>\n",
       "      <td>10.062332</td>\n",
       "    </tr>\n",
       "    <tr>\n",
       "      <th>2</th>\n",
       "      <td>2024-09-09</td>\n",
       "      <td>1.725865e+09</td>\n",
       "      <td>105.0</td>\n",
       "      <td>83.9</td>\n",
       "      <td>94.7</td>\n",
       "      <td>99.9</td>\n",
       "      <td>81.6</td>\n",
       "      <td>90.6</td>\n",
       "      <td>41.7</td>\n",
       "      <td>16.9</td>\n",
       "      <td>...</td>\n",
       "      <td>Phoenix</td>\n",
       "      <td>21.1</td>\n",
       "      <td>90.599165</td>\n",
       "      <td>3.6300</td>\n",
       "      <td>0.0</td>\n",
       "      <td>9.0</td>\n",
       "      <td>Fall</td>\n",
       "      <td>Monday</td>\n",
       "      <td>False</td>\n",
       "      <td>9.673387</td>\n",
       "    </tr>\n",
       "    <tr>\n",
       "      <th>3</th>\n",
       "      <td>2024-09-10</td>\n",
       "      <td>1.725952e+09</td>\n",
       "      <td>106.1</td>\n",
       "      <td>81.2</td>\n",
       "      <td>93.9</td>\n",
       "      <td>100.6</td>\n",
       "      <td>79.5</td>\n",
       "      <td>89.8</td>\n",
       "      <td>39.1</td>\n",
       "      <td>15.7</td>\n",
       "      <td>...</td>\n",
       "      <td>Phoenix</td>\n",
       "      <td>24.9</td>\n",
       "      <td>89.638811</td>\n",
       "      <td>2.8512</td>\n",
       "      <td>0.0</td>\n",
       "      <td>9.0</td>\n",
       "      <td>Fall</td>\n",
       "      <td>Tuesday</td>\n",
       "      <td>False</td>\n",
       "      <td>9.411519</td>\n",
       "    </tr>\n",
       "    <tr>\n",
       "      <th>4</th>\n",
       "      <td>2024-09-11</td>\n",
       "      <td>1.726038e+09</td>\n",
       "      <td>106.1</td>\n",
       "      <td>82.1</td>\n",
       "      <td>94.0</td>\n",
       "      <td>101.0</td>\n",
       "      <td>80.0</td>\n",
       "      <td>90.0</td>\n",
       "      <td>40.1</td>\n",
       "      <td>15.9</td>\n",
       "      <td>...</td>\n",
       "      <td>Phoenix</td>\n",
       "      <td>24.0</td>\n",
       "      <td>89.760414</td>\n",
       "      <td>3.3908</td>\n",
       "      <td>0.0</td>\n",
       "      <td>9.0</td>\n",
       "      <td>Fall</td>\n",
       "      <td>Wednesday</td>\n",
       "      <td>False</td>\n",
       "      <td>9.515179</td>\n",
       "    </tr>\n",
       "  </tbody>\n",
       "</table>\n",
       "<p>5 rows × 46 columns</p>\n",
       "</div>"
      ]
     },
     "execution_count": 9,
     "metadata": {},
     "output_type": "execute_result"
    }
   ]
  },
  {
   "metadata": {},
   "cell_type": "markdown",
   "source": [
    "# 2. Nettoyage et préparation des données\n",
    "• Identifier et gérer les valeurs manquantes <br>\n",
    "• Utiliser des techniques comme l'imputation par la moyenne/médiane ou \n",
    "des méthodes plus avancées <br>\n",
    "• Détecter et traiter les valeurs aberrantes<br>\n",
    "• Utiliser la méthode IQR (IQR = Q3 - Q1) ou z-score pour identifier les \n",
    "outliers<br>\n",
    "• Décider de les supprimer ou de les transformer selon le contexte\n"
   ],
   "id": "4204fbad3c67d65d"
  },
  {
   "metadata": {
    "ExecuteTime": {
     "end_time": "2024-11-05T07:49:41.547314Z",
     "start_time": "2024-11-05T07:49:41.010653Z"
    }
   },
   "cell_type": "code",
   "source": [
    "nombre_de_lignes = df.shape[0]\n",
    "print(\"Nombre de lignes :\", nombre_de_lignes)\n",
    "\n",
    "# Identification des valeurs manquantes\n",
    "valeurs_vides = df.isnull().sum()\n",
    "\n",
    "# On ne veut afficher que les colonnes ayant des valeurs manquantes \n",
    "colonnes_vides = valeurs_vides[valeurs_vides != 0]\n",
    "print(colonnes_vides)"
   ],
   "id": "e0c934531755ce23",
   "outputs": [
    {
     "name": "stdout",
     "output_type": "stream",
     "text": [
      "preciptype        622\n",
      "snowdepth          71\n",
      "stations          933\n",
      "Condition_Code    431\n",
      "dtype: int64\n"
     ]
    }
   ],
   "execution_count": 2
  },
  {
   "metadata": {
    "ExecuteTime": {
     "end_time": "2024-11-05T07:49:57.412726Z",
     "start_time": "2024-11-05T07:49:57.029046Z"
    }
   },
   "cell_type": "code",
   "source": [
    "# A présent, on veut gérer ces valeurs manquantes pour qu'elles ne faussent pas nos résultats\n",
    "# Nous analysons tout d'abord la colonne 'preciptype' :\n",
    "\n",
    "# Afficher les infos de la colonne 'preciptype'\n",
    "print(df['preciptype'].describe(include='all'))\n",
    "\n",
    "# Afficher la distribution des valeurs dans 'preciptype', y compris les valeurs manquantes\n",
    "print(\"\")\n",
    "print(df['preciptype'].value_counts(dropna=False))\n",
    "\n",
    "# Utilise la valeur la + fréquente pour remplacer les valeurs manquantes\n",
    "df['preciptype'].fillna(df['preciptype'].mode()[0], inplace=True)\n",
    "\n",
    "# Résultat\n",
    "print(\"\")\n",
    "print(\"Résultat final :\")\n",
    "print(df['preciptype'].isnull().sum())\n"
   ],
   "id": "60fb909c703b2ede",
   "outputs": [
    {
     "name": "stdout",
     "output_type": "stream",
     "text": [
      "count          378\n",
      "unique           1\n",
      "top       ['rain']\n",
      "freq           378\n",
      "Name: preciptype, dtype: object\n",
      "\n",
      "preciptype\n",
      "NaN         622\n",
      "['rain']    378\n",
      "Name: count, dtype: int64\n",
      "\n",
      "Résultat final :\n",
      "0\n"
     ]
    },
    {
     "name": "stderr",
     "output_type": "stream",
     "text": [
      "C:\\Users\\phile\\AppData\\Local\\Temp\\ipykernel_24808\\1818788517.py:12: FutureWarning: A value is trying to be set on a copy of a DataFrame or Series through chained assignment using an inplace method.\n",
      "The behavior will change in pandas 3.0. This inplace method will never work because the intermediate object on which we are setting values always behaves as a copy.\n",
      "\n",
      "For example, when doing 'df[col].method(value, inplace=True)', try using 'df.method({col: value}, inplace=True)' or df[col] = df[col].method(value) instead, to perform the operation inplace on the original object.\n",
      "\n",
      "\n",
      "  df['preciptype'].fillna(df['preciptype'].mode()[0], inplace=True)\n"
     ]
    }
   ],
   "execution_count": 3
  },
  {
   "metadata": {},
   "cell_type": "markdown",
   "source": [
    "# 3. Analyse exploratoire des données (EDA)\n",
    "• Visualiser la distribution des variables (histogrammes, boxplots) <br>\n",
    "• Analyser les corrélations entre les variables (heatmap de corrélation)<br>\n",
    "• Créer des visualisations pertinentes pour comprendre les relations entre les \n",
    "variables et le statut diabétique"
   ],
   "id": "8c5cd6083b04d5f"
  },
  {
   "metadata": {
    "ExecuteTime": {
     "end_time": "2024-11-05T08:09:21.454135Z",
     "start_time": "2024-11-05T08:09:20.801142Z"
    }
   },
   "cell_type": "code",
   "source": [
    "# Comptage du nombre d'occurrences de chaque ville\n",
    "city_counts = df['City'].value_counts()\n",
    "\n",
    "# Création du camembert pour la répartition des villes\n",
    "plt.figure(figsize=(10, 5))\n",
    "\n",
    "# Premier graphique : répartition des villes\n",
    "plt.subplot(1, 2, 1)\n",
    "plt.pie(city_counts, labels=city_counts.index, autopct='%1.1f%%', startangle=140, colors=sns.color_palette(\"pastel\"))\n",
    "plt.title(\"Répartition des villes\")\n",
    "\n",
    "# Deuxième graphique : répartition des sources\n",
    "source_counts = df['source'].value_counts()\n",
    "plt.subplot(1, 2, 2)\n",
    "plt.pie(source_counts, labels=source_counts.index, autopct='%1.1f%%', startangle=140, colors=sns.color_palette(\"muted\"))\n",
    "plt.title(\"Répartition des sources\")\n",
    "\n",
    "plt.tight_layout()\n",
    "plt.show()"
   ],
   "id": "98416278a33c4f47",
   "outputs": [
    {
     "data": {
      "text/plain": [
       "<Figure size 1000x500 with 2 Axes>"
      ],
      "image/png": "[encoded data removed]"
     },
     "metadata": {},
     "output_type": "display_data"
    }
   ],
   "execution_count": 16
  },
  {
   "cell_type": "markdown",
   "id": "b7fc6a5d20c19354",
   "metadata": {},
   "source": [
    "# 4. Préparation pour la modélisation\n",
    "• Diviser les données en ensembles d'entraînement et de test <br>\n",
    "• Normaliser/standardiser les features ( caractéristiques) si nécessaire"
   ]
  },
  {
   "metadata": {},
   "cell_type": "code",
   "outputs": [],
   "execution_count": null,
   "source": "",
   "id": "6f8275cdb79cbc01"
  },
  {
   "metadata": {},
   "cell_type": "markdown",
   "source": [
    "# 5. Régression linéaire\n",
    "• Implémenter une régression linéaire multiple pour prédire une variable continue <br>\n",
    "• Évaluer le modèle (R², RMSE) et interpréter les coefficients"
   ],
   "id": "4f6d96ff12b81087"
  },
  {
   "metadata": {},
   "source": "",
   "id": "84fda008734f4372",
   "cell_type": "code",
   "outputs": [],
   "execution_count": null
  },
  {
   "cell_type": "markdown",
   "source": [
    "# 6. Classification et Machine Learning\n",
    "• Comparer ces algorithmes et choisir le plus adapté pour votre étude : <br>\n",
    "    •  Régression logistique<br>\n",
    "    • Arbre de décision<br>\n",
    "    • Random Forest<br>\n",
    "• SVM<br>\n",
    "• Évaluer les performances (précision, rappel, F1-score, courbe ROC)<br>\n",
    "• Optimiser les hyperparamètres avec GridSearchCV ou RandomizedSearchCV"
   ],
   "id": "183476acf9563f90",
   "metadata": {}
  },
  {
   "metadata": {},
   "cell_type": "code",
   "outputs": [],
   "execution_count": null,
   "source": "",
   "id": "2d0eb5b8317271c9"
  },
  {
   "metadata": {},
   "cell_type": "markdown",
   "source": "",
   "id": "75ac3b1c3f39b33c"
  },
  {
   "metadata": {},
   "source": "",
   "id": "6df420b2d987539c",
   "cell_type": "code",
   "outputs": [],
   "execution_count": null
  },
  {
   "metadata": {},
   "cell_type": "markdown",
   "source": [
    "# 8. Prédiction et Déploiement du Modèle\n",
    "• Sélectionner le meilleur modèle basé sur les performances<br>\n",
    "• Entraîner le modèle final sur l'ensemble des données<br>\n",
    "• Créer une fonction de prédiction qui prend en entrée des caractéristiques\n",
    "(features) et permet de prédire des résultats (à vous de préciser quel type de \n",
    "résultat prédire)<br>\n",
    "• Développer une interface simple pour utiliser le modèle (par exemple, avec \n",
    "Streamlit ou Flask)\n"
   ],
   "id": "b710e229560a5c0c"
  },
  {
   "metadata": {},
   "source": "",
   "id": "57f45002c51176c5",
   "cell_type": "code",
   "outputs": [],
   "execution_count": null
  },
  {
   "metadata": {},
   "cell_type": "markdown",
   "source": [
    "# 9. Interprétation et conclusions\n",
    "• Résumer les principaux insights de l'analyse<br>\n",
    "• Identifier les facteurs les plus importants pour la prédiction selon le domaine \n",
    "choisi<br>\n",
    "• Proposer des recommandations basées sur les résultats"
   ],
   "id": "37cb9d92e77c358"
  }
 ],
 "metadata": {
  "kernelspec": {
   "display_name": "Python 3 (ipykernel)",
   "language": "python",
   "name": "python3"
  },
  "language_info": {
   "codemirror_mode": {
    "name": "ipython",
    "version": 3
   },
   "file_extension": ".py",
   "mimetype": "text/x-python",
   "name": "python",
   "nbconvert_exporter": "python",
   "pygments_lexer": "ipython3",
   "version": "3.12.4"
  }
 },
 "nbformat": 4,
 "nbformat_minor": 5
}
