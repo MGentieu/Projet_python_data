{
 "cells": [
  {
   "cell_type": "code",
   "execution_count": null,
   "id": "d184772b-84be-40a9-8e67-a74e8b89b0d7",
   "metadata": {},
   "outputs": [],
   "source": [
    "#ceci est une ligne"
   ]
  }
 ],
 "metadata": {
  "kernelspec": {
   "display_name": "Python 3 (ipykernel)",
   "language": "python",
   "name": "python3"
  },
  "language_info": {
   "codemirror_mode": {
    "name": "ipython",
    "version": 3
   },
   "file_extension": ".py",
   "mimetype": "text/x-python",
   "name": "python",
   "nbconvert_exporter": "python",
   "pygments_lexer": "ipython3",
   "version": "3.12.4"
  }
 },
 "nbformat": 4,
 "nbformat_minor": 5
}
