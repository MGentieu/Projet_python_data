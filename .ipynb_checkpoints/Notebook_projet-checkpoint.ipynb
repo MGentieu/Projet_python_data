{
 "cells": [
  {
   "metadata": {},
   "cell_type": "raw",
   "source": "",
   "id": "2faa6d40e121218e"
  }
 ],
 "metadata": {},
 "nbformat": 4,
 "nbformat_minor": 5
}
